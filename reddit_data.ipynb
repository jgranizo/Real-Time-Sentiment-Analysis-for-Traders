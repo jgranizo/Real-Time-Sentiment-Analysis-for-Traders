{
 "cells": [
  {
   "cell_type": "markdown",
   "metadata": {},
   "source": [
    "Analyzing which data to recieve"
   ]
  },
  {
   "cell_type": "code",
   "execution_count": null,
   "metadata": {
    "vscode": {
     "languageId": "plaintext"
    }
   },
   "outputs": [],
   "source": [
    "import praw\n",
    "from datetime import datetime, timedelta\n",
    "\n",
    "# Initialize Reddit API client with your credentials\n",
    "reddit = praw.Reddit(\n",
    "    client_id='ZPr2EshdHCAQUHQ1B4LRdQ',\n",
    "    client_secret='D_pSNQdQpLFu0xkme74Sket1zGUorg',\n",
    "    user_agent='BrandDataCollector/1.0 by u/jgran'\n",
    ")\n",
    "\n",
    "\n",
    "# Define criteria\n",
    "brand_name = \"Apple\"\n",
    "min_score = 100  # Minimum score to filter high-upvote posts\n",
    "min_comments = 50  # Minimum number of comments for high engagement\n",
    "days_limit = 7  # Only get posts from the last 7 days\n",
    "\n",
    "# Calculate the Unix timestamp for the date limit\n",
    "date_limit = datetime.utcnow() - timedelta(days=days_limit)\n",
    "timestamp_limit = date_limit.timestamp()\n",
    "\n",
    "# Search for posts mentioning the brand in relevant subreddits\n",
    "subreddits = [\"technology\", \"gadgets\", \"stocks\"]\n",
    "posts_data = []\n",
    "subreddit_dictionary = {}\n",
    "\n",
    "for subreddit_name in subreddits:\n",
    "    print(f\"\\nFetching posts about `{brand_name}` in r/{subreddit_name}\")\n",
    "    subreddit = reddit.subreddit(subreddit_name)\n",
    "    \n",
    "    for post in subreddit.search(brand_name, limit=10):  # Adjust limit as needed\n",
    "        # Filter posts based on criteria\n",
    "        if (post.score >= min_score and\n",
    "            post.num_comments >= min_comments and\n",
    "            post.created_utc >= timestamp_limit):\n",
    "\n",
    "            # Store post attributes in a dictionary\n",
    "            post_info = {\n",
    "                \"Title\": post.title,\n",
    "                \"Score\": post.score,\n",
    "                \"Comments\": post.num_comments,\n",
    "                \"Created\": datetime.fromtimestamp(post.created_utc).strftime('%Y-%m-%d %H:%M:%S'),\n",
    "                \"Subreddit\": post.subreddit.display_name,\n",
    "                \"Author\": post.author,\n",
    "                \"URL\": post.url,\n",
    "                \"Content\": post.selftext  # Short preview of the post content\n",
    "            }\n",
    "             # Set comment sort order to 'top' and fetch top comments\n",
    "            post.comment_sort = 'top'\n",
    "            post.comments.replace_more(limit=0)  # Avoids collapsed comments\n",
    "            top_comments = [comment.body for comment in post.comments[:5]]\n",
    "\n",
    "            # Attach top comments to post_info\n",
    "            post_info[\"Top_Comments\"] = top_comments\n",
    "         \n",
    "            # Display each post as a \"card\"\n",
    "            print(\"\\n--- Post Card ---\")\n",
    "            print(f\"Title: {post_info['Title']}\")\n",
    "            print(f\"Score: {post_info['Score']} | Comments: {post_info['Comments']}\")\n",
    "            print(f\"Created: {post_info['Created']} | Subreddit: {post_info['Subreddit']}\")\n",
    "            print(f\"Author: {post_info['Author']}\")\n",
    "            print(f\"URL: {post_info['URL']}\")\n",
    "            print(f\"Content Preview: {post_info['Content']}\")\n",
    "            print(\"\\nTop Comments:\")\n",
    "            for i, comment in enumerate(post_info[\"Top_Comments\"], 1):\n",
    "                print(f\"Comment {i}: {comment}\")  # Show first 100 characters for brevity\n",
    "                if post_info['Title'] not in subreddit_dictionary:\n",
    "                    subreddit_dictionary[post_info['Title']] = {}\n",
    "                subreddit_dictionary[post_info['Title']][comment] = 0\n",
    "            # Store post and comments for further analysis\n",
    "            posts_data.append(post_info)\n",
    "            \n",
    "\n",
    "\n",
    "\n"
   ]
  }
 ],
 "metadata": {
  "language_info": {
   "name": "python"
  }
 },
 "nbformat": 4,
 "nbformat_minor": 2
}
